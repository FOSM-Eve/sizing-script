{
 "cells": [
  {
   "cell_type": "markdown",
   "metadata": {},
   "source": [
    "# Sizing script for a rocket engine\n",
    "\n",
    "## Introduction\n",
    "This script is used to size the Eve engine.\n",
    "The script is designed to be used in a Jupyter Notebook.\n",
    "\n",
    "## Running the script\n",
    "To run the script, simply run all cells in the notebook."
   ]
  },
  {
   "cell_type": "markdown",
   "metadata": {},
   "source": [
    "## Imports\n",
    "Let's start by importing the necessary libraries."
   ]
  },
  {
   "cell_type": "code",
   "execution_count": 88,
   "metadata": {},
   "outputs": [],
   "source": [
    "from math import sqrt"
   ]
  },
  {
   "cell_type": "markdown",
   "metadata": {},
   "source": [
    "## Constants"
   ]
  },
  {
   "cell_type": "code",
   "execution_count": 89,
   "metadata": {},
   "outputs": [],
   "source": [
    "g0 = 9.80665  # m/s^2\n",
    "R = 287.05  # J/kg/K\n",
    "gamma = 1.4  # Cp/Cv"
   ]
  },
  {
   "cell_type": "markdown",
   "metadata": {},
   "source": [
    "## Design parameters\n",
    "The next cell contains the design parameters for the engine.\n",
    "We start from a thrust target and a chamber pressure target."
   ]
  },
  {
   "cell_type": "code",
   "execution_count": 90,
   "metadata": {},
   "outputs": [],
   "source": [
    "# Main design parameters\n",
    "thrust_target = 100  # N\n",
    "chamber_pressure = 1e6  # Pa\n",
    "I_sp = 260  # s\n",
    "\n",
    "# Nozzle parameters\n",
    "atm_pressure = 101325  # Pa\n",
    "exit_pressure = atm_pressure  # Pa\n",
    "\n",
    "# Propellant parameters\n",
    "mixture_ratio = 2.327  # oxidizer/fuel\n",
    "fuel_density = 800  # kg/m^3\n",
    "oxidizer_density = 1141  # kg/m^3"
   ]
  },
  {
   "cell_type": "markdown",
   "metadata": {},
   "source": [
    "## Propellant exit conditions"
   ]
  },
  {
   "cell_type": "code",
   "execution_count": 91,
   "metadata": {},
   "outputs": [
    {
     "name": "stdout",
     "output_type": "stream",
     "text": [
      "Exhaust speed: 2549.73 m/s\n"
     ]
    }
   ],
   "source": [
    "# Propellant exhaust conditions\n",
    "exhaust_speed = I_sp * g0  # m/s\n",
    "print(f\"Exhaust speed: {exhaust_speed:.2f} m/s\")"
   ]
  },
  {
   "cell_type": "markdown",
   "metadata": {},
   "source": [
    "## Flow rates\n",
    "The mass flow rate is calculated from the thrust and the chamber pressure."
   ]
  },
  {
   "cell_type": "code",
   "execution_count": 92,
   "metadata": {},
   "outputs": [
    {
     "name": "stdout",
     "output_type": "stream",
     "text": [
      "Mass flow rate: 0.039 kg/s\n",
      "Oxidizer mass flow rate: 0.027 kg/s \t 27.432 g/s\n",
      "Fuel mass flow rate: 0.012 kg/s \t 11.788 g/s\n",
      "Oxidizer volume flow rate: 0.000024 m^3/s \t 0.024 L/s\n",
      "Fuel volume flow rate: 0.000015 m^3/s \t 0.015 L/s\n"
     ]
    }
   ],
   "source": [
    "mass_flow_rate = thrust_target / I_sp / g0\n",
    "print(f\"Mass flow rate: {mass_flow_rate:.3f} kg/s\")\n",
    "\n",
    "# Calculate oxidizer/fuel mass ratio\n",
    "fuel_mass_flow_rate = mass_flow_rate / (mixture_ratio + 1)\n",
    "oxidizer_mass_flow_rate = fuel_mass_flow_rate * mixture_ratio\n",
    "\n",
    "print(f\"Oxidizer mass flow rate: {oxidizer_mass_flow_rate:.3f} kg/s \\t {oxidizer_mass_flow_rate*1000:.3f} g/s\")\n",
    "print(f\"Fuel mass flow rate: {fuel_mass_flow_rate:.3f} kg/s \\t {fuel_mass_flow_rate*1000:.3f} g/s\")\n",
    "\n",
    "# Calculate oxidizer/fuel volume ratio\n",
    "oxidizer_volume_flow_rate = oxidizer_mass_flow_rate / oxidizer_density\n",
    "fuel_volume_flow_rate = fuel_mass_flow_rate / fuel_density\n",
    "\n",
    "print(f\"Oxidizer volume flow rate: {oxidizer_volume_flow_rate:.6f} m^3/s \\t {oxidizer_volume_flow_rate*1000:.3f} L/s\")\n",
    "print(f\"Fuel volume flow rate: {fuel_volume_flow_rate:.6f} m^3/s \\t {fuel_volume_flow_rate*1000:.3f} L/s\")"
   ]
  }
 ],
 "metadata": {
  "kernelspec": {
   "display_name": ".venv",
   "language": "python",
   "name": "python3"
  },
  "language_info": {
   "codemirror_mode": {
    "name": "ipython",
    "version": 3
   },
   "file_extension": ".py",
   "mimetype": "text/x-python",
   "name": "python",
   "nbconvert_exporter": "python",
   "pygments_lexer": "ipython3",
   "version": "3.11.6"
  },
  "orig_nbformat": 4
 },
 "nbformat": 4,
 "nbformat_minor": 2
}
