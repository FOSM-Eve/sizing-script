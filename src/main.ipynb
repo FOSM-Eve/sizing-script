{
 "cells": [
  {
   "cell_type": "markdown",
   "metadata": {},
   "source": [
    "# Sizing script for a rocket engine\n",
    "\n",
    "## Introduction\n",
    "This script is used to size the Eve engine.\n",
    "The script is designed to be used in a Jupyter Notebook.\n",
    "\n",
    "## Running the script\n",
    "To run the script, simply run all cells in the notebook."
   ]
  },
  {
   "cell_type": "markdown",
   "metadata": {},
   "source": [
    "## Imports\n",
    "Let's start by importing the necessary libraries."
   ]
  },
  {
   "cell_type": "code",
   "execution_count": 42,
   "metadata": {},
   "outputs": [],
   "source": [
    "from math import sqrt\n",
    "import cantera as ct\n",
    "import matplotlib.pyplot as plt"
   ]
  },
  {
   "cell_type": "markdown",
   "metadata": {},
   "source": [
    "## Constants"
   ]
  },
  {
   "cell_type": "code",
   "execution_count": 43,
   "metadata": {},
   "outputs": [],
   "source": [
    "g0 = 9.80665  # m/s^2\n",
    "R = 287.05  # J/kg/K\n",
    "gamma = 1.4  # Cp/Cv"
   ]
  },
  {
   "cell_type": "markdown",
   "metadata": {},
   "source": [
    "## Design parameters\n",
    "The next cell contains the design parameters for the engine.\n",
    "We start from a thrust target and a chamber pressure target."
   ]
  },
  {
   "cell_type": "code",
   "execution_count": 44,
   "metadata": {},
   "outputs": [],
   "source": [
    "# Main design parameters\n",
    "thrust_target = 1000  # N\n",
    "chamber_pressure = 1 * 1e6  # Pa\n",
    "# I_sp = 260  # s\n",
    "\n",
    "# Nozzle parameters\n",
    "atm_pressure = 101325  # Pa\n",
    "exit_pressure = atm_pressure  # Pa\n",
    "\n",
    "# Propellant parameters\n",
    "mixture_ratio = 2  # oxidizer/fuel mass ratio\n",
    "fuel_species = 'CH4'\n",
    "oxidizer_species = 'O2'\n",
    "propellant_temperature = 300  # K"
   ]
  },
  {
   "cell_type": "markdown",
   "metadata": {},
   "source": [
    "## Propellant exit conditions"
   ]
  },
  {
   "cell_type": "code",
   "execution_count": 45,
   "metadata": {},
   "outputs": [
    {
     "name": "stdout",
     "output_type": "stream",
     "text": [
      "Gas properties before combustion:\n",
      "\n",
      "  gri30:\n",
      "\n",
      "       temperature   300 K\n",
      "          pressure   1e+06 Pa\n",
      "           density   9.63 kg/m^3\n",
      "  mean mol. weight   24.02 kg/kmol\n",
      "   phase of matter   gas\n",
      "\n",
      "                          1 kg             1 kmol     \n",
      "                     ---------------   ---------------\n",
      "          enthalpy       -1.5503e+06        -3.724e+07  J\n",
      "   internal energy       -1.6542e+06       -3.9734e+07  J\n",
      "           entropy            7605.5        1.8269e+05  J/K\n",
      "    Gibbs function        -3.832e+06       -9.2046e+07  J\n",
      " heat capacity c_p            1356.1             32574  J/K\n",
      " heat capacity c_v              1010             24260  J/K\n",
      "\n",
      "                      mass frac. Y      mole frac. X     chem. pot. / RT\n",
      "                     ---------------   ---------------   ---------------\n",
      "                O2           0.66606               0.5           -23.077\n",
      "               CH4           0.33394               0.5           -50.727\n",
      "     [  +51 minor]                 0                 0  \n",
      "\n",
      "Gas properties after combustion:\n",
      "\n",
      "  gri30:\n",
      "\n",
      "       temperature   2698.9 K\n",
      "          pressure   1e+06 Pa\n",
      "           density   0.70892 kg/m^3\n",
      "  mean mol. weight   15.908 kg/kmol\n",
      "   phase of matter   gas\n",
      "\n",
      "                          1 kg             1 kmol     \n",
      "                     ---------------   ---------------\n",
      "          enthalpy       -1.5503e+06       -2.4662e+07  J\n",
      "   internal energy       -2.9609e+06       -4.7102e+07  J\n",
      "           entropy             15072        2.3976e+05  J/K\n",
      "    Gibbs function       -4.2227e+07       -6.7175e+08  J\n",
      " heat capacity c_p            2700.1             42953  J/K\n",
      " heat capacity c_v            2177.4             34639  J/K\n",
      "\n",
      "                      mass frac. Y      mole frac. X     chem. pot. / RT\n",
      "                     ---------------   ---------------   ---------------\n",
      "                H2          0.045938           0.36249             -19.2\n",
      "                 H        0.00068765          0.010852           -9.6001\n",
      "                 O        4.2982e-05        4.2738e-05           -19.382\n",
      "                O2        2.8114e-05        1.3977e-05           -38.763\n",
      "                OH         0.0023958          0.002241           -28.982\n",
      "               H2O           0.33206           0.29323           -38.582\n",
      "               HO2        1.0741e-07         5.177e-08           -48.364\n",
      "              H2O2        7.7664e-08        3.6323e-08           -57.964\n",
      "                 C        8.9019e-12         1.179e-11            -13.24\n",
      "                CH         1.423e-11        1.7388e-11            -22.84\n",
      "               CH2        1.8828e-10        2.1353e-10            -32.44\n",
      "            CH2(S)        1.6183e-11        1.8353e-11            -32.44\n",
      "               CH3        3.9335e-09        4.1619e-09            -42.04\n",
      "               CH4         8.231e-09        8.1617e-09            -51.64\n",
      "                CO           0.52036           0.29553           -32.622\n",
      "               CO2          0.098473          0.035595           -52.004\n",
      "               HCO         6.318e-06        3.4636e-06           -42.222\n",
      "              CH2O        8.1171e-07        4.3005e-07           -51.822\n",
      "             CH2OH        2.0277e-10        1.0394e-10           -61.422\n",
      "              CH3O        4.3848e-12        2.2476e-12           -61.422\n",
      "             CH3OH        9.1724e-11        4.5538e-11           -71.022\n",
      "               C2H        1.3176e-13        8.3739e-14            -36.08\n",
      "              C2H2        4.3318e-11        2.6465e-11            -45.68\n",
      "              C2H3         1.959e-14        1.1523e-14            -55.28\n",
      "              C2H4        6.3828e-14        3.6193e-14            -64.88\n",
      "              HCCO         1.306e-11        5.0635e-12           -55.462\n",
      "             CH2CO        6.6819e-11        2.5286e-11           -65.062\n",
      "             HCCOH        2.3322e-13        8.8257e-14           -65.062\n",
      "     [  +25 minor]        3.5154e-14         1.285e-14  \n",
      "\n",
      "Adiabatic flame temperature: 2698.9 K\n",
      "Exit velocity: 1197.0 m/s\n",
      "Isp: 122.1 s\n",
      "Exhaust composition:\n",
      "H2: 0.362\n",
      "H: 0.011\n",
      "OH: 0.002\n",
      "H2O: 0.293\n",
      "CO: 0.296\n",
      "CO2: 0.036\n"
     ]
    }
   ],
   "source": [
    "gas = ct.Solution('gri30.yaml')\n",
    "gas.TP = propellant_temperature, chamber_pressure\n",
    "gas.set_equivalence_ratio(phi=2, fuel=fuel_species, oxidizer=oxidizer_species)\n",
    "print('Gas properties before combustion:')\n",
    "print(gas.report())\n",
    "gas.equilibrate('HP')\n",
    "\n",
    "# Get properties from gas object\n",
    "print('Gas properties after combustion:')\n",
    "print(gas.report())\n",
    "\n",
    "# Calculate exhaust gamma\n",
    "gamma_exhaust = gas.cp / gas.cv\n",
    "\n",
    "print(f\"Adiabatic flame temperature: {gas.T:.1f} K\")\n",
    "\n",
    "fuel_density = gas.density * gas[fuel_species].molecular_weights[0]  # kg/m^3\n",
    "oxidizer_density = gas.density * gas[oxidizer_species].molecular_weights[0]  # kg/m^3\n",
    "\n",
    "# Calculate exit velocity\n",
    "exit_velocity = sqrt(gamma_exhaust * R * gas.T * (1 - (exit_pressure / chamber_pressure)**((gamma_exhaust - 1) / gamma_exhaust)) / (gamma_exhaust - 1))\n",
    "print(f\"Exit velocity: {exit_velocity:.1f} m/s\")\n",
    "\n",
    "# Calculate Isp\n",
    "I_sp = exit_velocity / g0\n",
    "print(f\"Isp: {I_sp:.1f} s\")\n",
    "\n",
    "# Calculate propellant composition\n",
    "exhaust_composition = gas.X\n",
    "print('Exhaust composition:')\n",
    "for i, species in enumerate(gas.species_names):\n",
    "    if exhaust_composition[i] > 0.001:\n",
    "        print(f'{species}: {exhaust_composition[i]:.3f}')"
   ]
  },
  {
   "cell_type": "markdown",
   "metadata": {},
   "source": [
    "## Flow rates\n",
    "The mass flow rate is calculated from the thrust and the chamber pressure."
   ]
  },
  {
   "cell_type": "code",
   "execution_count": 46,
   "metadata": {},
   "outputs": [
    {
     "name": "stdout",
     "output_type": "stream",
     "text": [
      "Mass flow rate: 0.835 kg/s\n",
      "Oxidizer mass flow rate: 0.557 kg/s \t 556.953 g/s\n",
      "Fuel mass flow rate: 0.278 kg/s \t 278.476 g/s\n",
      "Oxidizer volume flow rate: 0.024553 m^3/s \t 24.553 L/s\n",
      "Fuel volume flow rate: 0.024485 m^3/s \t 24.485 L/s\n"
     ]
    }
   ],
   "source": [
    "mass_flow_rate = thrust_target / I_sp / g0\n",
    "print(f\"Mass flow rate: {mass_flow_rate:.3f} kg/s\")\n",
    "\n",
    "# Calculate oxidizer/fuel mass ratio\n",
    "fuel_mass_flow_rate = mass_flow_rate / (mixture_ratio + 1)\n",
    "oxidizer_mass_flow_rate = fuel_mass_flow_rate * mixture_ratio\n",
    "\n",
    "print(f\"Oxidizer mass flow rate: {oxidizer_mass_flow_rate:.3f} kg/s \\t {oxidizer_mass_flow_rate*1000:.3f} g/s\")\n",
    "print(f\"Fuel mass flow rate: {fuel_mass_flow_rate:.3f} kg/s \\t {fuel_mass_flow_rate*1000:.3f} g/s\")\n",
    "\n",
    "# Calculate oxidizer/fuel volume ratio\n",
    "oxidizer_volume_flow_rate = oxidizer_mass_flow_rate / oxidizer_density\n",
    "fuel_volume_flow_rate = fuel_mass_flow_rate / fuel_density\n",
    "\n",
    "print(f\"Oxidizer volume flow rate: {oxidizer_volume_flow_rate:.6f} m^3/s \\t {oxidizer_volume_flow_rate*1000:.3f} L/s\")\n",
    "print(f\"Fuel volume flow rate: {fuel_volume_flow_rate:.6f} m^3/s \\t {fuel_volume_flow_rate*1000:.3f} L/s\")"
   ]
  },
  {
   "cell_type": "markdown",
   "metadata": {},
   "source": [
    "## Nozzle dimensions"
   ]
  },
  {
   "cell_type": "code",
   "execution_count": 48,
   "metadata": {},
   "outputs": [
    {
     "name": "stdout",
     "output_type": "stream",
     "text": [
      "w_t: 0.835\n",
      "Throat temperature: 3022.8 K\n",
      "Throat pressure: 1795966.7 Pa\n",
      "Throat area: 0.000389 m^2\n",
      "Throat diameter: 19.726 mm\n",
      "Chamber area: 0.003891 m^2\n",
      "Chamber diameter: 62.379 mm\n"
     ]
    }
   ],
   "source": [
    "w_t = mass_flow_rate\n",
    "print(f\"w_t: {w_t:.3f}\")\n",
    "\n",
    "M = 1\n",
    "\n",
    "T_t = gas.T * (1 + (gamma_exhaust - 1) / 2) * M ** 2\n",
    "print(f\"Throat temperature: {T_t:.1f} K\")\n",
    "\n",
    "p_t = gas.P * (1 + M ** 2 * (gamma_exhaust - 1) / 2) ** (gamma_exhaust / (gamma_exhaust - 1))\n",
    "print(f\"Throat pressure: {p_t:.1f} Pa\")\n",
    "\n",
    "throat_area = w_t / (p_t * M * sqrt(gamma_exhaust / R / T_t))\n",
    "print(f\"Throat area: {throat_area:.6f} m^2\")\n",
    "print(f\"Throat diameter: {sqrt(throat_area)*1000:.3f} mm\")\n",
    "\n",
    "chamber_area = 10 * throat_area\n",
    "print(f\"Chamber area: {chamber_area:.6f} m^2\")\n",
    "print(f\"Chamber diameter: {sqrt(chamber_area)*1000:.3f} mm\")"
   ]
  }
 ],
 "metadata": {
  "kernelspec": {
   "display_name": ".venv",
   "language": "python",
   "name": "python3"
  },
  "language_info": {
   "codemirror_mode": {
    "name": "ipython",
    "version": 3
   },
   "file_extension": ".py",
   "mimetype": "text/x-python",
   "name": "python",
   "nbconvert_exporter": "python",
   "pygments_lexer": "ipython3",
   "version": "3.11.6"
  },
  "orig_nbformat": 4
 },
 "nbformat": 4,
 "nbformat_minor": 2
}
