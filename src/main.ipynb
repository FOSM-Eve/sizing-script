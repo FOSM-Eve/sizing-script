{
 "cells": [
  {
   "cell_type": "markdown",
   "metadata": {},
   "source": [
    "# Sizing script for a rocket engine\n",
    "\n",
    "## Introduction\n",
    "This script is used to size the Eve engine.\n",
    "The script is designed to be used in a Jupyter Notebook.\n",
    "\n",
    "## Running the script\n",
    "To run the script, simply run all cells in the notebook."
   ]
  },
  {
   "cell_type": "markdown",
   "metadata": {},
   "source": [
    "## Imports\n",
    "Let's start by importing the necessary libraries."
   ]
  },
  {
   "cell_type": "code",
   "execution_count": 50,
   "metadata": {},
   "outputs": [],
   "source": [
    "from math import sqrt\n",
    "import cantera as ct\n",
    "import matplotlib.pyplot as plt"
   ]
  },
  {
   "cell_type": "markdown",
   "metadata": {},
   "source": [
    "## Constants"
   ]
  },
  {
   "cell_type": "code",
   "execution_count": 51,
   "metadata": {},
   "outputs": [],
   "source": [
    "g0 = 9.80665  # m/s^2\n",
    "R = 287.05  # J/kg/K\n",
    "gamma = 1.4  # Cp/Cv"
   ]
  },
  {
   "cell_type": "markdown",
   "metadata": {},
   "source": [
    "## Design parameters\n",
    "The next cell contains the design parameters for the engine.\n",
    "We start from a thrust target and a chamber pressure target."
   ]
  },
  {
   "cell_type": "code",
   "execution_count": 52,
   "metadata": {},
   "outputs": [],
   "source": [
    "# Main design parameters\n",
    "thrust_target = 100  # N\n",
    "chamber_pressure = 5e6  # Pa\n",
    "# I_sp = 260  # s\n",
    "\n",
    "# Nozzle parameters\n",
    "atm_pressure = 101325  # Pa\n",
    "exit_pressure = atm_pressure  # Pa\n",
    "\n",
    "# Propellant parameters\n",
    "mixture_ratio = 2.2  # oxidizer/fuel\n",
    "fuel_species = 'CH4'\n",
    "oxidizer_species = 'O2'\n",
    "propellant_temperature = 300  # K"
   ]
  },
  {
   "cell_type": "code",
   "execution_count": 53,
   "metadata": {},
   "outputs": [
    {
     "name": "stdout",
     "output_type": "stream",
     "text": [
      "Gas properties:\n",
      "Density: 5.343 kg/m^3\n",
      "Molecular weight: 27.972 kg/kmol\n",
      "Cp: 1738.749 J/kg/K\n",
      "Cv: 1441.505 J/kg/K\n",
      "Gamma: 1.206\n",
      "Adiabatic flame temperature: 3148.4 K\n",
      "Isp: 63.1 s\n"
     ]
    }
   ],
   "source": [
    "gas = ct.Solution('gri30.yaml')\n",
    "gas.TP = propellant_temperature, chamber_pressure\n",
    "gas.set_equivalence_ratio(phi=1/mixture_ratio, fuel=fuel_species, oxidizer=oxidizer_species)\n",
    "gas.equilibrate('HP')\n",
    "\n",
    "# Get properties from gas object\n",
    "print('Gas properties:')\n",
    "print('Density: {:.3f} kg/m^3'.format(gas.density))\n",
    "print('Molecular weight: {:.3f} kg/kmol'.format(gas.mean_molecular_weight))\n",
    "print('Cp: {:.3f} J/kg/K'.format(gas.cp_mass))\n",
    "print('Cv: {:.3f} J/kg/K'.format(gas.cv_mass))\n",
    "gamma_exhaust = gas.cp_mass / gas.cv_mass\n",
    "print(f'Gamma: {gamma_exhaust:.3f}')\n",
    "\n",
    "print(f\"Adiabatic flame temperature: {gas.T:.1f} K\")\n",
    "\n",
    "fuel_density = gas.density * gas[fuel_species].molecular_weights[0]  # kg/m^3\n",
    "oxidizer_density = gas.density * gas[oxidizer_species].molecular_weights[0]  # kg/m^3\n",
    "\n",
    "# Calculate Isp\n",
    "I_sp = g0 * gamma_exhaust / R * gas.T * (1 - (exit_pressure / chamber_pressure) ** ((gamma_exhaust - 1) / gamma_exhaust))\n",
    "print(f\"Isp: {I_sp:.1f} s\")"
   ]
  },
  {
   "cell_type": "markdown",
   "metadata": {},
   "source": [
    "## Propellant exit conditions"
   ]
  },
  {
   "cell_type": "code",
   "execution_count": 54,
   "metadata": {},
   "outputs": [
    {
     "name": "stdout",
     "output_type": "stream",
     "text": [
      "Exhaust speed: 619.00 m/s\n"
     ]
    }
   ],
   "source": [
    "# Propellant exhaust conditions\n",
    "exhaust_speed = I_sp * g0  # m/s\n",
    "print(f\"Exhaust speed: {exhaust_speed:.2f} m/s\")"
   ]
  },
  {
   "cell_type": "markdown",
   "metadata": {},
   "source": [
    "## Flow rates\n",
    "The mass flow rate is calculated from the thrust and the chamber pressure."
   ]
  },
  {
   "cell_type": "code",
   "execution_count": 55,
   "metadata": {},
   "outputs": [
    {
     "name": "stdout",
     "output_type": "stream",
     "text": [
      "Mass flow rate: 0.162 kg/s\n",
      "Oxidizer mass flow rate: 0.111 kg/s \t 111.066 g/s\n",
      "Fuel mass flow rate: 0.050 kg/s \t 50.485 g/s\n",
      "Oxidizer volume flow rate: 0.000650 m^3/s \t 0.650 L/s\n",
      "Fuel volume flow rate: 0.000589 m^3/s \t 0.589 L/s\n"
     ]
    }
   ],
   "source": [
    "mass_flow_rate = thrust_target / I_sp / g0\n",
    "print(f\"Mass flow rate: {mass_flow_rate:.3f} kg/s\")\n",
    "\n",
    "# Calculate oxidizer/fuel mass ratio\n",
    "fuel_mass_flow_rate = mass_flow_rate / (mixture_ratio + 1)\n",
    "oxidizer_mass_flow_rate = fuel_mass_flow_rate * mixture_ratio\n",
    "\n",
    "print(f\"Oxidizer mass flow rate: {oxidizer_mass_flow_rate:.3f} kg/s \\t {oxidizer_mass_flow_rate*1000:.3f} g/s\")\n",
    "print(f\"Fuel mass flow rate: {fuel_mass_flow_rate:.3f} kg/s \\t {fuel_mass_flow_rate*1000:.3f} g/s\")\n",
    "\n",
    "# Calculate oxidizer/fuel volume ratio\n",
    "oxidizer_volume_flow_rate = oxidizer_mass_flow_rate / oxidizer_density\n",
    "fuel_volume_flow_rate = fuel_mass_flow_rate / fuel_density\n",
    "\n",
    "print(f\"Oxidizer volume flow rate: {oxidizer_volume_flow_rate:.6f} m^3/s \\t {oxidizer_volume_flow_rate*1000:.3f} L/s\")\n",
    "print(f\"Fuel volume flow rate: {fuel_volume_flow_rate:.6f} m^3/s \\t {fuel_volume_flow_rate*1000:.3f} L/s\")"
   ]
  }
 ],
 "metadata": {
  "kernelspec": {
   "display_name": ".venv",
   "language": "python",
   "name": "python3"
  },
  "language_info": {
   "codemirror_mode": {
    "name": "ipython",
    "version": 3
   },
   "file_extension": ".py",
   "mimetype": "text/x-python",
   "name": "python",
   "nbconvert_exporter": "python",
   "pygments_lexer": "ipython3",
   "version": "3.11.6"
  },
  "orig_nbformat": 4
 },
 "nbformat": 4,
 "nbformat_minor": 2
}
